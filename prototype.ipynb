{
 "cells": [
  {
   "cell_type": "markdown",
   "metadata": {},
   "source": [
    "# Preliminaries\n",
    "\n",
    "This is to ensure that torch recognizes macOS software. "
   ]
  },
  {
   "cell_type": "code",
   "execution_count": 2,
   "metadata": {},
   "outputs": [
    {
     "name": "stdout",
     "output_type": "stream",
     "text": [
      "PyTorch Ver: 2.6.0\n",
      "Apple Silicon available: True\n"
     ]
    }
   ],
   "source": [
    "import torch \n",
    "print(\"PyTorch Ver:\", torch.__version__) \n",
    "print(\"Apple Silicon available:\", torch.backends.mps.is_available())\n",
    "\n",
    "device = torch.device(\"mps\")"
   ]
  },
  {
   "cell_type": "markdown",
   "metadata": {},
   "source": [
    "# Imports "
   ]
  },
  {
   "cell_type": "code",
   "execution_count": 14,
   "metadata": {},
   "outputs": [],
   "source": [
    "import torch.nn as nn \n",
    "import matplotlib.pyplot as plt \n",
    "import torch.optim as optimizer \n",
    "\n",
    "import gradio as gr"
   ]
  },
  {
   "cell_type": "markdown",
   "metadata": {},
   "source": [
    "# Create the Model\n",
    "\n",
    "Creating a simple neural network with torch for nonlinear regression.\n"
   ]
  },
  {
   "cell_type": "code",
   "execution_count": 4,
   "metadata": {},
   "outputs": [],
   "source": [
    "class SimpleNN(nn.Module): # SimpleNN inherits nn.Module from here \n",
    "    def __init__(self, input_dim, hidden_dim1=6, hidden_dim2=4):\n",
    "        super(SimpleNN, self).__init__()  # calls the parent class nn.Module to get pytorch backend set up \n",
    "        # Layers \n",
    "        self.fc1 = nn.Linear(input_dim, hidden_dim1)  # fc stands for \"fully connected\" \n",
    "        self.fc2 = nn.Linear(hidden_dim1, hidden_dim2)\n",
    "        self.fc3 = nn.Linear(hidden_dim2, 1)\n",
    "        \n",
    "        self.relu = nn.ReLU() \n",
    "    \n",
    "    def forward(self, x):\n",
    "        x = self.relu(self.fc1(x)) # hidden layer 1 \n",
    "        x = self.relu(self.fc2(x)) # hidden layer 2\n",
    "        x = self.fc3(x)            # output layer (unbounded since lin reg)\n",
    "        return x"
   ]
  },
  {
   "cell_type": "markdown",
   "metadata": {},
   "source": [
    "# Creating a Dummy Dataset"
   ]
  },
  {
   "cell_type": "code",
   "execution_count": 8,
   "metadata": {},
   "outputs": [
    {
     "data": {
      "image/png": "[encoded data removed]",
      "text/plain": [
       "<Figure size 640x480 with 1 Axes>"
      ]
     },
     "metadata": {},
     "output_type": "display_data"
    }
   ],
   "source": [
    "# Generate dataset y = f(x) \n",
    "X = torch.linspace(-5, 5, 100).view(-1, 1)\n",
    "y = torch.sin(X) + torch.randn(X.shape) * 0.35\n",
    "\n",
    "D = {\"X\": X, \"y\": y}\n",
    "\n",
    "# Plot \n",
    "plt.scatter(D[\"X\"].numpy(), D[\"y\"].numpy(), label=\"Data\", alpha=0.5)\n",
    "plt.xlabel(\"X\") \n",
    "plt.ylabel(\"Y\") \n",
    "plt.title(\"Dummy nonlinear dataset\")\n",
    "plt.legend()\n",
    "plt.show()\n"
   ]
  },
  {
   "cell_type": "markdown",
   "metadata": {},
   "source": [
    "# Training Loop\n"
   ]
  },
  {
   "cell_type": "code",
   "execution_count": 53,
   "metadata": {},
   "outputs": [],
   "source": [
    "def train(model, dataset, criterion, optimizer, device, epochs=5): \n",
    "    \"\"\"\n",
    "    Trains the model on the dataset. \n",
    "\n",
    "    Args: \n",
    "        model: the simple NN model with one hidden layer. \n",
    "        dataset: the dataset, a dictionary = {\"X\": X, \"y\":y}\n",
    "        criterion: the loss function to use. \n",
    "        optimizer: the type of optimizer to use. \n",
    "        epochs: the number of epochs. \n",
    "    \"\"\"\n",
    "    model = model.to(device) # change all model weights to mps \n",
    "    \n",
    "    model.train() # set the model to train mode (for pytorch)\n",
    "\n",
    "    final_loss = 0 \n",
    "\n",
    "    for epoch in range(epochs):       \n",
    "        optimizer.zero_grad()\n",
    "\n",
    "        # get data \n",
    "        x = dataset[\"X\"]\n",
    "        y = dataset[\"y\"] \n",
    "\n",
    "        x = x.to(device)\n",
    "        y = y.to(device)\n",
    "\n",
    "        # forward pass on nn \n",
    "        y_hat = model.forward(x) \n",
    "        \n",
    "        loss = criterion(y_hat, y)\n",
    "\n",
    "        # run back prop on loss to update gradients \n",
    "        loss.backward() \n",
    "\n",
    "        # update weights \n",
    "        optimizer.step() \n",
    "\n",
    "        if epoch == epochs - 1:\n",
    "            final_loss = loss.item()\n",
    "    \n",
    "    return final_loss\n",
    "    \n"
   ]
  },
  {
   "cell_type": "markdown",
   "metadata": {},
   "source": [
    "# Create and Train the Model"
   ]
  },
  {
   "cell_type": "code",
   "execution_count": 57,
   "metadata": {},
   "outputs": [],
   "source": [
    "def create_model(lr, epochs, h1, h2):\n",
    "    \"\"\"\n",
    "    lr: Learning Rate \n",
    "    epochs: Epochs \n",
    "    h1: Size of hidden layer 1 \n",
    "    h2: Size of hidden layer 2 \n",
    "    \"\"\"\n",
    "    input_dim = 1 \n",
    "\n",
    "    model = SimpleNN(input_dim, h1, h2)\n",
    "    model_optimizer = optimizer.Adam(model.parameters(), lr=lr)\n",
    "    criterion = nn.MSELoss()\n",
    "    dataset = D \n",
    "    print(\"Training the Neural Network:\")\n",
    "    loss = train(model, dataset, criterion, model_optimizer, device, epochs=int(epochs))\n",
    "\n",
    "    return model, loss"
   ]
  },
  {
   "cell_type": "markdown",
   "metadata": {},
   "source": [
    "# Evaluating and Visualizing the Model"
   ]
  },
  {
   "cell_type": "code",
   "execution_count": 50,
   "metadata": {},
   "outputs": [],
   "source": [
    "def evaluate_model(epochs, lr, hidden_dim1, hidden_dim2):\n",
    "    model,_ = create_model(epochs, lr, hidden_dim1, hidden_dim2)\n",
    "\n",
    "    # Change the model to evaluation mode (changes some backend stuff in PyTorch)\n",
    "    model.eval() \n",
    "    with torch.no_grad(): \n",
    "        y_pred = model.forward(X)\n",
    "\n",
    "    plt.figure(figsize=(10, 6)) \n",
    "    plt.scatter(X.to(\"cpu\"), y.to(\"cpu\"), label=\"True Data\", color=\"blue\")\n",
    "    plt.plot(X.to(\"cpu\"), y_pred.to(\"cpu\"), label=\"Model Predictions\", color=\"red\", linewidth=2)\n",
    "    plt.xlabel(\"Input Feature\") \n",
    "    plt.ylabel(\"Target Value\") \n",
    "    plt.title(\"Regression: True vs Predicted\")\n",
    "    plt.legend()\n",
    "    plt.show()"
   ]
  },
  {
   "cell_type": "markdown",
   "metadata": {},
   "source": [
    "# Create the Gradio Interface"
   ]
  },
  {
   "cell_type": "markdown",
   "metadata": {},
   "source": [
    "### Create a Trainer Class to easily update hyper parameters"
   ]
  },
  {
   "cell_type": "code",
   "execution_count": 59,
   "metadata": {},
   "outputs": [],
   "source": [
    "class Trainer(): \n",
    "    def __init__(self): \n",
    "        self.params = {\n",
    "            \"lr\": 0.01, \n",
    "            \"epochs\": 10, \n",
    "            \"h1\": 6, \n",
    "            \"h2\": 4,\n",
    "        }\n",
    "    \n",
    "    def update_params(self, **kwargs): \n",
    "        for key, value in kwargs.items(): \n",
    "            if key in self.params:\n",
    "                self.params[key] = value\n",
    "        return self.params \n",
    "    \n",
    "    def create_and_train(self): \n",
    "        _, loss = create_model(**self.params) \n",
    "        return f\"Loss: {loss:.4f}\""
   ]
  },
  {
   "cell_type": "code",
   "execution_count": 60,
   "metadata": {},
   "outputs": [
    {
     "name": "stdout",
     "output_type": "stream",
     "text": [
      "Running on local URL:  http://127.0.0.1:7875\n",
      "\n",
      "To create a public link, set `share=True` in `launch()`.\n"
     ]
    },
    {
     "data": {
      "text/html": [
       "<div><iframe src=\"http://127.0.0.1:7875/\" width=\"100%\" height=\"500\" allow=\"autoplay; camera; microphone; clipboard-read; clipboard-write;\" frameborder=\"0\" allowfullscreen></iframe></div>"
      ],
      "text/plain": [
       "<IPython.core.display.HTML object>"
      ]
     },
     "metadata": {},
     "output_type": "display_data"
    },
    {
     "data": {
      "text/plain": []
     },
     "execution_count": 60,
     "metadata": {},
     "output_type": "execute_result"
    },
    {
     "name": "stdout",
     "output_type": "stream",
     "text": [
      "Training the Neural Network:\n",
      "Training the Neural Network:\n",
      "Training the Neural Network:\n",
      "Training the Neural Network:\n",
      "Training the Neural Network:\n",
      "Training the Neural Network:\n",
      "Training the Neural Network:\n",
      "Training the Neural Network:\n",
      "Training the Neural Network:\n"
     ]
    }
   ],
   "source": [
    "trainer = Trainer()\n",
    "\n",
    "with gr.Blocks() as view: \n",
    "    # Create the UI Components \n",
    "    lr = gr.Slider(0.001, 1, value=0.01, label=\"Learning Rate (alpha)\")\n",
    "    epochs = gr.Slider(1, 1000, value=5, step = 1, label=\"Epochs\")\n",
    "    h1 = gr.Slider(1, 10, value=6, step=1, label = \"Size of first hidden layer\")\n",
    "    h2 = gr.Slider(1, 10, value=6, step=1, label = \"Size of second hidden layer\")\n",
    "    train_btn = gr.Button(\"Train\")\n",
    "    output = gr.Textbox(label= \"Results\")\n",
    "\n",
    "    # Connect events \n",
    "    lr.change(lambda x: trainer.update_params(learning_rate=x), lr, None)\n",
    "    epochs.change(lambda x: trainer.update_params(epochs=x), epochs, None)\n",
    "    h1.change(lambda x: trainer.update_params(h1=x), h1, None) \n",
    "    h2.change(lambda x: trainer.update_params(h2=x), h2, None)\n",
    "    train_btn.click(trainer.create_and_train, inputs=None, outputs= output)\n",
    "\n",
    "view.launch()\n",
    "\n",
    "\n",
    "\n"
   ]
  },
  {
   "cell_type": "code",
   "execution_count": null,
   "metadata": {},
   "outputs": [],
   "source": []
  }
 ],
 "metadata": {
  "kernelspec": {
   "display_name": "visualizing_nns",
   "language": "python",
   "name": "python3"
  },
  "language_info": {
   "codemirror_mode": {
    "name": "ipython",
    "version": 3
   },
   "file_extension": ".py",
   "mimetype": "text/x-python",
   "name": "python",
   "nbconvert_exporter": "python",
   "pygments_lexer": "ipython3",
   "version": "3.9.21"
  }
 },
 "nbformat": 4,
 "nbformat_minor": 2
}
